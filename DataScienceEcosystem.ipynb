{
 "cells": [
  {
   "cell_type": "markdown",
   "id": "8722ea39-cb9f-4cf7-bf6f-4cbf8d0291aa",
   "metadata": {},
   "source": [
    "# Data Science Tools and Ecosystem"
   ]
  },
  {
   "cell_type": "markdown",
   "id": "8a2f0a0f-f9a5-40ba-8f07-9bdd064e6caa",
   "metadata": {},
   "source": [
    "## Karissa Mohr"
   ]
  },
  {
   "cell_type": "markdown",
   "id": "a0f782f4-6705-4b99-b513-6ce393f73f49",
   "metadata": {},
   "source": [
    "In this notebook, Data Science Tools and Ecosystem are summarized.\n",
    "\n",
    "**Objectives**\n",
    "- Languages of Data Science (SQL, Python, etc.)\n",
    "- Machine Learning\n",
    "- Jupyter Notebooks and Jupyter Lab\n",
    "- RStudio & Github"
   ]
  },
  {
   "cell_type": "markdown",
   "id": "1ca1b668-4828-4222-808d-8af33d74e460",
   "metadata": {
    "tags": []
   },
   "source": [
    "Some of the popular languages that Data Scientists use are: \n",
    "1. SQL\n",
    "2. Python\n",
    "3. R\n"
   ]
  },
  {
   "cell_type": "markdown",
   "id": "03c4b2e9-36e8-484b-9f79-37839d546d1c",
   "metadata": {},
   "source": [
    "Some of the commonly used libraries used by Data Scientists include:\n",
    "1. Pandas\n",
    "2. NumPy\n",
    "3. Matplotlib"
   ]
  },
  {
   "cell_type": "markdown",
   "id": "9f5a446f-42a6-4085-8c3c-de64dd09146f",
   "metadata": {
    "tags": []
   },
   "source": [
    "| Data Science Tools |\n",
    "----------------------\n",
    "| Jupyter Notebooks |\n",
    "| RStudio |\n",
    "| Apache Zeppelin |"
   ]
  },
  {
   "cell_type": "markdown",
   "id": "d40fea6e-81eb-4aac-b553-cef843c02a34",
   "metadata": {},
   "source": [
    "### Below are a few examples of evaluating arithmetic expressions in Python."
   ]
  },
  {
   "cell_type": "code",
   "execution_count": 19,
   "id": "6805af29-aba9-4bdc-b820-69515b952870",
   "metadata": {
    "tags": []
   },
   "outputs": [
    {
     "data": {
      "text/plain": [
       "85"
      ]
     },
     "execution_count": 19,
     "metadata": {},
     "output_type": "execute_result"
    }
   ],
   "source": [
    "# Example 1:\n",
    "(20*4)+5"
   ]
  },
  {
   "cell_type": "code",
   "execution_count": 21,
   "id": "aebe6b49-50b7-496f-b274-6aa4f3b6cfb5",
   "metadata": {
    "tags": []
   },
   "outputs": [
    {
     "data": {
      "text/plain": [
       "625"
      ]
     },
     "execution_count": 21,
     "metadata": {},
     "output_type": "execute_result"
    }
   ],
   "source": [
    "# Example 2\n",
    "5 ** 4"
   ]
  },
  {
   "cell_type": "code",
   "execution_count": 23,
   "id": "a314b8b6-6a1a-4b3e-8dd0-34f198364c9d",
   "metadata": {
    "tags": []
   },
   "outputs": [
    {
     "data": {
      "text/plain": [
       "31.0"
      ]
     },
     "execution_count": 23,
     "metadata": {},
     "output_type": "execute_result"
    }
   ],
   "source": [
    "# Example 3\n",
    "93/3"
   ]
  },
  {
   "cell_type": "code",
   "execution_count": 25,
   "id": "6d69e9af-c0c0-4550-b5d7-0699b041e6b8",
   "metadata": {
    "tags": []
   },
   "outputs": [
    {
     "data": {
      "text/plain": [
       "17"
      ]
     },
     "execution_count": 25,
     "metadata": {},
     "output_type": "execute_result"
    }
   ],
   "source": [
    "# This a simple arithmetic expression to mutiply then add integers.\n",
    "(3*4)+5"
   ]
  },
  {
   "cell_type": "code",
   "execution_count": 27,
   "id": "cace6089-cb8a-4a39-b514-e8c1b4ac0d6f",
   "metadata": {
    "tags": []
   },
   "outputs": [
    {
     "name": "stdout",
     "output_type": "stream",
     "text": [
      "3.3333333333333335\n"
     ]
    }
   ],
   "source": [
    "# This will convert 200 minutes to hours by diving by 60\n",
    "hours = 200/60\n",
    "print(hours)"
   ]
  }
 ],
 "metadata": {
  "kernelspec": {
   "display_name": "Python 3 (ipykernel)",
   "language": "python",
   "name": "python3"
  },
  "language_info": {
   "codemirror_mode": {
    "name": "ipython",
    "version": 3
   },
   "file_extension": ".py",
   "mimetype": "text/x-python",
   "name": "python",
   "nbconvert_exporter": "python",
   "pygments_lexer": "ipython3",
   "version": "3.11.7"
  }
 },
 "nbformat": 4,
 "nbformat_minor": 5
}
